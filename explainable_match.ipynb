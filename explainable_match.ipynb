{
 "cells": [
  {
   "attachments": {},
   "cell_type": "markdown",
   "metadata": {},
   "source": [
    "# Explainable Match API - Senseloaf\n",
    "This interactive demo 🚀 will walk you through the process of using the Explainable Match API by SenseLoaf AI 🤖."
   ]
  },
  {
   "attachments": {},
   "cell_type": "markdown",
   "metadata": {},
   "source": []
  },
  {
   "attachments": {},
   "cell_type": "markdown",
   "metadata": {},
   "source": [
    "# Conventional matching vs Explainable Matching\n",
    "Here, you might ask, what is an Explainable Match? 🤔\n",
    "Let us first understand what Explainable Matching is, and how is it different (and better 📈) than conventional matching.\n",
    "\n",
    "## Conventional Matching\n",
    "The conventional document matching works on the context of the full document as a whole. In very simple terms, it will take the full documents as input and give out an overall match score. How does it match the documents? What kind of factors are considered while matching? 👀 Sadly, it works as a black-box, and we can not satisfactorily know that 😞\n",
    "\n",
    "## Explainable Match\n",
    "The explainable match solves the above problem of having a veil over the matching process, so that you know exactly how the matching is being done and what kind of factors is the model considering while matching, taking you from 😞 to 😁. \n",
    "\n",
    "## Senseloaf AI Explainable Match API\n",
    "The Explainable Matching API by Senseloaf provides you with three different factors for matching:\n",
    "- Matching by Experience 💼\n",
    "- Matching by Job Titles 📋\n",
    "- Matching by Skills 🧮\n",
    "\n",
    "So, by using Senseloaf AI's Explainable match, along with the overall match score, you will also get the match score of the above factors individually, so you know, exactly how and what is being matched. Moreover, these three factors scores are merged to give you the overall score. And guess what? 🤔 You can even set the weightage of the individual factor scores (coming soon) to decide how much each score will contribute to the final overall score (you just went from 😁 to 🤩, didn't you?). "
   ]
  },
  {
   "attachments": {},
   "cell_type": "markdown",
   "metadata": {},
   "source": []
  },
  {
   "attachments": {},
   "cell_type": "markdown",
   "metadata": {},
   "source": [
    "# Using the Explainable Match API\n",
    "For this demo, we will be matching a given Job Description document to a given Resume and find out how fit is a particular candidate for a job they have applied to, based on the three factors mentioned: Experience, Job Titles and Skills.\n",
    "\n",
    "## Workflow of the Process\n",
    "We will approach the process in the following manner:\n",
    "1. Parse the resume using Senseloaf AI Resume Parser API\n",
    "2. Parse the Job Description (called JD from now on) using the SenseLoaf AI JD Parser API\n",
    "3. Send the result to the Senseloaf AI Explainable Match API\n",
    "\n",
    "We at Senseloaf prefer Python as our programming language, and this demo is also formed in Python 🐍. "
   ]
  },
  {
   "attachments": {},
   "cell_type": "markdown",
   "metadata": {},
   "source": []
  },
  {
   "attachments": {},
   "cell_type": "markdown",
   "metadata": {},
   "source": [
    "# Creating your account 🔐\n",
    "For using any APIs, you would first need an account on the Senseloaf Platform. If you do not already have an account, you can go ahead and create a free trial account on the Senseloaf Platform by visiting https://sandbox.senseloaf.ai\n",
    "\n",
    "Once your account is created, you can continue with the demo. You will get some free trial credits as well to try out the products and use them in this demo as well."
   ]
  },
  {
   "attachments": {},
   "cell_type": "markdown",
   "metadata": {},
   "source": [
    "# Logging into your account\n",
    "Now that you have created our account, lets log into the account to get an Authorization Token. Authorization Token is used by our backend to identify the user. All our APIs use and require an authorization token to work."
   ]
  },
  {
   "cell_type": "code",
   "execution_count": 14,
   "metadata": {},
   "outputs": [
    {
     "name": "stdout",
     "output_type": "stream",
     "text": [
      "Bearer XXXXXXXXXXXXXXXXXXXXXXXXX\n"
     ]
    }
   ],
   "source": [
    "import requests     # For making the API calls\n",
    "import json         # For handling the responses\n",
    "\n",
    "login_url = \"https://service.senseloaf.com/login\"          # Login API Endpoint\n",
    "email = 'email@yourcompany.domain'                         # Email used to create the account\n",
    "password = 'XXXXXXXXXXXXXXXXXXXXXXXXXXXXX'                 # Your password\n",
    "\n",
    "payload = json.dumps({\n",
    "    \"emailId\": email,\n",
    "    \"password\": password\n",
    "})\n",
    "headers = {\n",
    "    'Content-Type': 'application/json'\n",
    "}\n",
    "\n",
    "response = requests.request(\"POST\", login_url, headers=headers, data=payload)\n",
    "headers = response.headers        # Auth token is returned as header\n",
    "\n",
    "auth_token = headers.get('Authorization')\n",
    "auth_token          # This will be used for authorization"
   ]
  },
  {
   "cell_type": "code",
   "execution_count": null,
   "metadata": {},
   "outputs": [],
   "source": []
  },
  {
   "attachments": {},
   "cell_type": "markdown",
   "metadata": {},
   "source": [
    "# Using the Senseloaf Resume Parser API\n",
    "The Senseloaf resume parser API parses the given resume for the explainable AI match to select the fields from. For the demo, I have used a test resume which is of an NLP Engineer. You can find the file in ```resumes/test_resume.pdf```"
   ]
  },
  {
   "cell_type": "code",
   "execution_count": 2,
   "metadata": {},
   "outputs": [
    {
     "data": {
      "text/plain": [
       "{'availableCredits': 8181,\n",
       " 'errors': [],\n",
       " 'number_of_resumes': 1,\n",
       " 'result': [{'content': {'rawText': \"contact (+91) 9773044674 rutviknitpy@gmail.com rutvik-trivedi education (May 2021) B.tech. in CSE, NATIONAL INSTITUTEOF TECHNOLOGY, Puducherry key skills Python Machine Learning. Natural Language Processing. Sklearn, Pandas, Numpy, NLTK, Keras, Pytorch, Gensim and other libraries Github C, Java, Octave (Beginner) Datastructures and Algorithms Web Development profile AMachine Learning and NLP enthusiast. Interested in Linguistics and its computation professional experience (February 2021 – Present) NLPENGINEER SENSELOAF TECHNOLOGIES – Bengaluru, IN ▪ One of themembers of the founding team.Working on building the next generation AI-based hiring platform.Worked on technologies and algorithms like AWS,MongoDB, Python, Gensim, Keras, BERT, Doc2Vec, Word2Vec, LDA (June 2020 – July 2020) Machine Learning Intern WIKILIMO Technologies – Remote ▪ Working on creatingML predictionmodels for various weather forcings and indices using the data fromNASA's satellite readings, partnered with the European Union.Worked on technology stacks like Python, GCP and PyTorch. (May 2020 –December 2020) NLPResearcher IIT Mandi – Remote ▪ Working on a research project to analyse tweets and identify a user group of origin. Also working to improve the current results of Fake User Detection and Style transfer. Worked on Python, Keras. https://linkedin.com/in/rutvik-trivedi\",\n",
       "    'skills': [{'SkillName': 'Sklearn', 'SkillType': []},\n",
       "     {'SkillName': 'Github', 'SkillType': []},\n",
       "     {'SkillName': 'Aws', 'SkillType': []},\n",
       "     {'SkillName': 'Bert', 'SkillType': []},\n",
       "     {'SkillName': 'Researcher', 'SkillType': []},\n",
       "     {'SkillName': 'Web Development', 'SkillType': []},\n",
       "     {'SkillName': 'Octave', 'SkillType': []},\n",
       "     {'SkillName': 'Datastructures', 'SkillType': []},\n",
       "     {'SkillName': 'C', 'SkillType': []},\n",
       "     {'SkillName': 'Gensim', 'SkillType': []},\n",
       "     {'SkillName': 'Algorithms', 'SkillType': []},\n",
       "     {'SkillName': 'Java', 'SkillType': []},\n",
       "     {'SkillName': 'Libraries', 'SkillType': []},\n",
       "     {'SkillName': 'Linguistics', 'SkillType': []},\n",
       "     {'SkillName': 'Mongodb', 'SkillType': []},\n",
       "     {'SkillName': 'Doc2Vec', 'SkillType': []},\n",
       "     {'SkillName': 'Data', 'SkillType': []},\n",
       "     {'SkillName': 'Pytorch', 'SkillType': []},\n",
       "     {'SkillName': 'Nlp', 'SkillType': []},\n",
       "     {'SkillName': 'Gcp', 'SkillType': []},\n",
       "     {'SkillName': 'Numpy', 'SkillType': []},\n",
       "     {'SkillName': 'Natural Language Processing', 'SkillType': []},\n",
       "     {'SkillName': 'Python', 'SkillType': []},\n",
       "     {'SkillName': 'Machine Learning', 'SkillType': []},\n",
       "     {'SkillName': 'Keras', 'SkillType': []},\n",
       "     {'SkillName': 'Ml', 'SkillType': []},\n",
       "     {'SkillName': 'Research', 'SkillType': []}],\n",
       "    'education': {'EducationSection': [{'Collegename': 'NATIONAL INSTITUTE OF TECHNOLOGY',\n",
       "       'Degree': 'Bachelor of Technology',\n",
       "       'EduEndDate': {'month': 5, 'year': 0},\n",
       "       'EduStartDate': {'month': 5, 'year': 2021},\n",
       "       'Location': 'Puducherry',\n",
       "       'Major': 'CSE',\n",
       "       'Grade': '',\n",
       "       'DegreeType': 'Bachelor',\n",
       "       'MaxGrade': '',\n",
       "       'GradeType': ''}],\n",
       "     'HighestEducation': 'Bachelor of Technology'},\n",
       "    'experience': {'ExperienceSection': [{'CompanyName': 'SENSELOAF TECHNOLOGIES',\n",
       "       'ExpEndDate': {'month': -1, 'year': -1},\n",
       "       'ExpLocation': 'Bengaluru , IN',\n",
       "       'ExpStartDate': {'month': 2, 'year': 2021},\n",
       "       'JobTitle': 'NLP ENGINEER',\n",
       "       'Description': ''},\n",
       "      {'CompanyName': 'IIT Mandi Remote',\n",
       "       'ExpEndDate': {'month': 12, 'year': 2020},\n",
       "       'ExpLocation': '',\n",
       "       'ExpStartDate': {'month': 5, 'year': 2020},\n",
       "       'JobTitle': 'NLP Researcher',\n",
       "       'Description': ''},\n",
       "      {'CompanyName': 'WIKILIMO Technologies',\n",
       "       'ExpEndDate': {'month': 7, 'year': 2020},\n",
       "       'ExpLocation': 'Remote',\n",
       "       'ExpStartDate': {'month': 6, 'year': 2020},\n",
       "       'JobTitle': 'Machine Learning Intern',\n",
       "       'Description': ''}],\n",
       "     'TotalExperience': 2.99,\n",
       "     'CurrentCompany': 'SENSELOAF TECHNOLOGIES',\n",
       "     'CurrentJobRole': 'NLP ENGINEER',\n",
       "     'AverageExperience': 1.0},\n",
       "    'socialLinks': {'facebook': '',\n",
       "     'github': '',\n",
       "     'stackoverflow': '',\n",
       "     'twitter': '',\n",
       "     'linkedin': 'https://linkedin.com/in/rutvik-trivedi',\n",
       "     'skypeid': '',\n",
       "     'angelList': '',\n",
       "     'urls': []},\n",
       "    'contactInfo': {'title': '',\n",
       "     'firstName': 'rutvik',\n",
       "     'lastName': 'trivedi',\n",
       "     'middleName': ''},\n",
       "    'contactMethod': {'ContactEmailid': ['rutviknitpy@gmail.com'],\n",
       "     'PostalAddress': {'Location': {'Area': '',\n",
       "       'City': '',\n",
       "       'Country': '',\n",
       "       'State': '',\n",
       "       'Zip': '',\n",
       "       'CountryCode': '',\n",
       "       'Latitude': '',\n",
       "       'Longitude': ''}},\n",
       "     'Telephone': ['91 9773044674']},\n",
       "    'sections': [{'bbox': {'h': 270, 'w': 425, 'x': 65, 'y': 500},\n",
       "      'sectionName': 'Personal_info',\n",
       "      'sectionText': 'contact ( +91 ) 9773044674 rutviknitpy@gmail.com rutvik - trivedi',\n",
       "      'pageNumber': 1},\n",
       "     {'bbox': {'h': 262, 'w': 384, 'x': 106, 'y': 850},\n",
       "      'sectionName': 'Education',\n",
       "      'sectionText': 'education ( May 2021 ) B.tech . in CSE , NATIONAL INSTITUTE OF TECHNOLOGY , Puducherry',\n",
       "      'pageNumber': 1},\n",
       "     {'bbox': {'h': 441, 'w': 420, 'x': 71, 'y': 1207},\n",
       "      'sectionName': 'Skills',\n",
       "      'sectionText': 'key skills Python Machine Learning . Natural Language Processing . Sklearn , Pandas , Numpy , NLTK , Keras , Pytorch , Gensim and other libraries Github C , Java , Octave ( Beginner ) Datastructures and Algorithms Web Development',\n",
       "      'pageNumber': 1},\n",
       "     {'bbox': {'h': 145, 'w': 1051, 'x': 568, 'y': 497},\n",
       "      'sectionName': 'Summary',\n",
       "      'sectionText': 'profile A Machine Learning and NLP enthusiast . Interested in Linguistics and its computation',\n",
       "      'pageNumber': 1},\n",
       "     {'bbox': {'h': 1126, 'w': 1030, 'x': 568, 'y': 760},\n",
       "      'sectionName': 'Experience',\n",
       "      'sectionText': \"professional experience ( February 2021 - Present ) NLP ENGINEER SENSELOAF TECHNOLOGIES - Bengaluru , IN One of the members of the founding team . Working on building the next generation Al - based hiring platform . Worked on technologies and algorithms like AWS , MongoDB , Python , Gensim , Keras , BERT , Doc2Vec , Word2Vec , LDA ( June 2020 - July 2020 ) Machine Learning Intern WIKILIMO Technologies - Remote Working on creating ML prediction models for various weather forcings and indices using the data from NASA's satellite readings , partnered with the European Union . Worked on technology stacks like Python , GCP and PyTorch . ( May 2020 - December 2020 ) NLP Researcher IIT Mandi Remote Working on a research project to analyse tweets and identify a user group ■ of origin . Also working to improve the current results of Fake User Detection and Style transfer . Worked on Python , Keras .\",\n",
       "      'pageNumber': 1}]},\n",
       "   'filename': 'test_resume_1685359710061.pdf'}]}"
      ]
     },
     "execution_count": 2,
     "metadata": {},
     "output_type": "execute_result"
    }
   ],
   "source": [
    "resume_parser_url = 'https://service.senseloaf.com/api/v2/parse-resume'\n",
    "test_resume_path = 'resumes/test_resume.pdf'\n",
    "filename = 'test_resume.pdf'\n",
    "payload = {}\n",
    "files=[\n",
    "    ('files',(filename, open(test_resume_path,'rb'), 'application/pdf'))\n",
    "]\n",
    "headers = {\n",
    "    'Authorization': auth_token           # Token which we fetched using login API\n",
    "}\n",
    "\n",
    "resume = requests.request(\"POST\", resume_parser_url, headers=headers, data=payload, files=files).json()\n",
    "resume             # Parsed Resume"
   ]
  },
  {
   "attachments": {},
   "cell_type": "markdown",
   "metadata": {},
   "source": [
    "# Using the Senseloaf JD Parser API\n",
    "The Senseloaf JD parser API parses the given JD and extract all the relevant fields from the JD like Job Title, Experience Level and Skills which will be used in turn by the Explainable Match API. The test JD used for this demo can be found at ```jds/jd.docx```"
   ]
  },
  {
   "cell_type": "code",
   "execution_count": 3,
   "metadata": {},
   "outputs": [
    {
     "data": {
      "text/plain": [
       "{'availableCredits': 99990,\n",
       " 'number_of_jd': 0,\n",
       " 'result': [{'content': {'job_title': 'Sales Manager',\n",
       "    'maximum_required_experience': 0,\n",
       "    'minimum_required_experience': 10,\n",
       "    'raw_text': \"Ambarella, the worldwide leader in AI vision, HD and 4K video, is on a mission to bring AI and computer vision to all types of everyday devices, from surveillance cameras to robots to autonomous cars. In this position you will manage sales activities in the US including all video markets, with specific sales targets, including sales of Ambarella’s Emerging Market and IP Camera product lines. Key responsibilities: · Identify and drive design wins maximizing sales revenue from specific target accounts. · Maintain sales forecasting, deliver bi-weekly market and sales reports. · Drive design wins at key IP security camera customers, both professional and consumer. · Collaborate with marketing and engineering departments to help project management at key customers. · Work with Ambarella’s marketing team to develop robotic and other computer vision customers in North America. · Maintain and develop corporate image and reputation, and protect and develop the company's brands via suitable PR activities and intellectual property management. · Recruit, manage, train and motivate direct reporting staff according to company procedures, policy and employment law. Education and Experience Requirement: · BA minimum. BSEE preferred. · Minimum of ten years of semiconductor sales management including managing/developing strategic account relationships · Experience and understanding of how to navigate large and complex customer organizations to gain access to key executives, engineering and purchasing decision makers. · Excellent networking capabilities including internal and external customers. · Experience selling complex semiconductor solutions with significant systems and software elements. Knowledge of video and imaging technologies a strong plus. · Ability to work in an entrepreneurial environment and work collaboratively as part of a go-to-market team \",\n",
       "    'skills': ['Sales Forecasting',\n",
       "     'Leader',\n",
       "     'Vision',\n",
       "     'Ip',\n",
       "     'Marketing',\n",
       "     'Software',\n",
       "     'Manage',\n",
       "     'Computer Vision',\n",
       "     'Managing',\n",
       "     'Purchasing',\n",
       "     'Video',\n",
       "     'Design',\n",
       "     'Sales Management',\n",
       "     'Environment',\n",
       "     'Go',\n",
       "     'Project Management',\n",
       "     'Target Accounts',\n",
       "     'Ai',\n",
       "     'Security',\n",
       "     'Intellectual Property Management',\n",
       "     'Sales']},\n",
       "   'filename': 'jd_1685359736987.docx'}]}"
      ]
     },
     "execution_count": 3,
     "metadata": {},
     "output_type": "execute_result"
    }
   ],
   "source": [
    "jd_parser_url = 'https://service.senseloaf.com/api/parse-jd'\n",
    "jd_filename = 'jd.docx'        \n",
    "jd_path = 'jds/jd.docx'\n",
    "\n",
    "payload = {}\n",
    "files=[\n",
    "    ('files',(jd_filename, open(jd_path,'rb'), 'application/vnd.openxmlformats-officedocument.wordprocessingml.document'))\n",
    "]\n",
    "headers = {\n",
    "    'Authorization': auth_token           # Token which we fetched using login API\n",
    "}\n",
    "\n",
    "jd = requests.request(\"POST\", jd_parser_url, headers=headers, data=payload, files=files).json()\n",
    "jd"
   ]
  },
  {
   "attachments": {},
   "cell_type": "markdown",
   "metadata": {},
   "source": []
  },
  {
   "attachments": {},
   "cell_type": "markdown",
   "metadata": {},
   "source": [
    "# Explainable Match API\n",
    "Now that we got the Resume parsed as well as JD parsed, we can now send the parsed result to the explainable match API and see if I am eligible for the Job or not 😀"
   ]
  },
  {
   "cell_type": "code",
   "execution_count": 13,
   "metadata": {},
   "outputs": [
    {
     "data": {
      "text/plain": [
       "{'result': {'missing_skills': ['project management',\n",
       "   'ip',\n",
       "   'target accounts',\n",
       "   'ai',\n",
       "   'security',\n",
       "   'environment',\n",
       "   'manage',\n",
       "   'computer vision',\n",
       "   'sales management',\n",
       "   'vision',\n",
       "   'managing',\n",
       "   'marketing',\n",
       "   'video',\n",
       "   'leader',\n",
       "   'design',\n",
       "   'sales',\n",
       "   'intellectual property management',\n",
       "   'software',\n",
       "   'sales forecasting',\n",
       "   'go',\n",
       "   'purchasing'],\n",
       "  'scores': {'experience': {'grade': 'D', 'score': 0.22},\n",
       "   'job_title': {'grade': 'E', 'score': 0.03},\n",
       "   'overall_score': {'grade': 'E', 'score': 0.05},\n",
       "   'skills': {'grade': 'E', 'score': 0.0}}},\n",
       " 'availableCredits': 9998}"
      ]
     },
     "execution_count": 13,
     "metadata": {},
     "output_type": "execute_result"
    }
   ],
   "source": [
    "explainable_match_url = 'https://service.senseloaf.com/api/explainable-match'\n",
    "\n",
    "payload = json.dumps({\n",
    "    'jd': jd['result'][0],\n",
    "    'resume': {\n",
    "        'skills': resume['result'][0]['content']['skills'],\n",
    "        'experience': resume['result'][0]['content']['sections'],\n",
    "        'titles': resume['result'][0]['content']['experience']\n",
    "    }\n",
    "})\n",
    "headers = {\n",
    "    'Authorization': auth_token,           # Token which we fetched using login API\n",
    "    'Content-Type': 'application/json'\n",
    "}\n",
    "\n",
    "explainable_match = requests.request(\"POST\", explainable_match_url, headers=headers, data=payload).json()\n",
    "explainable_match"
   ]
  },
  {
   "attachments": {},
   "cell_type": "markdown",
   "metadata": {},
   "source": []
  },
  {
   "attachments": {},
   "cell_type": "markdown",
   "metadata": {},
   "source": [
    "Huh, seems like the resume is not eligible for the job after all 😟. But that is correct. Why? Because if you see, the JD is of a Sr. Sales BDM and requires minimum 10 years of experience. While, being an NLP Engineer, the resume has no necessary skills for the JD. This can be clearly seen by the individual scores which are given by the explainable match, which is why explainable match is far more comprehensive than the conventional match 😇. You can even try and play around with any another JD or resume you like."
   ]
  },
  {
   "attachments": {},
   "cell_type": "markdown",
   "metadata": {},
   "source": []
  },
  {
   "attachments": {},
   "cell_type": "markdown",
   "metadata": {},
   "source": [
    "# Conclusion\n",
    "That would conclude our demo for the explainable match API. I have tried to be as thorough as possible in the demo, but in case you are facing any difficulty using any of the APIs, we are always here to help, do not hesitate to reach out to us on team@senseloaf.com and we shall be happy to help you out with any problems you might be facing.\n",
    "\n",
    "You can also refer to the API documentation for more advanced usage at https://docs.senseloaf.ai\n",
    "\n",
    "**P.S.** : If you have any tips for the candidate to improve the score in the above JD, do reach out as well 😆"
   ]
  }
 ],
 "metadata": {
  "kernelspec": {
   "display_name": "detectron2",
   "language": "python",
   "name": "python3"
  },
  "language_info": {
   "codemirror_mode": {
    "name": "ipython",
    "version": 3
   },
   "file_extension": ".py",
   "mimetype": "text/x-python",
   "name": "python",
   "nbconvert_exporter": "python",
   "pygments_lexer": "ipython3",
   "version": "3.7.11"
  },
  "orig_nbformat": 4
 },
 "nbformat": 4,
 "nbformat_minor": 2
}
